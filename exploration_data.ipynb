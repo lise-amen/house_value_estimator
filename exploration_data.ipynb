{
 "cells": [
  {
   "cell_type": "markdown",
   "metadata": {},
   "source": [
    "# Data exploration"
   ]
  },
  {
   "cell_type": "code",
   "execution_count": 30,
   "metadata": {},
   "outputs": [],
   "source": [
    "import numpy as np\n",
    "import pandas as pd\n",
    "import matplotlib.pyplot as plt\n",
    "import seaborn as sns"
   ]
  },
  {
   "cell_type": "markdown",
   "metadata": {},
   "source": [
    "## Load data"
   ]
  },
  {
   "cell_type": "code",
   "execution_count": 44,
   "metadata": {},
   "outputs": [],
   "source": [
    "df = pd.read_csv(\"data/immoweb_scrapped.csv\")"
   ]
  },
  {
   "cell_type": "code",
   "execution_count": 45,
   "metadata": {},
   "outputs": [
    {
     "name": "stdout",
     "output_type": "stream",
     "text": [
      "<class 'pandas.core.frame.DataFrame'>\n",
      "RangeIndex: 10006 entries, 0 to 10005\n",
      "Data columns (total 19 columns):\n",
      " #   Column               Non-Null Count  Dtype  \n",
      "---  ------               --------------  -----  \n",
      " 0   id                   10006 non-null  int64  \n",
      " 1   locality             10006 non-null  int64  \n",
      " 2   type_of_property     10006 non-null  object \n",
      " 3   subtype_of_property  10006 non-null  object \n",
      " 4   price                9054 non-null   float64\n",
      " 5   type_of_sale         10006 non-null  object \n",
      " 6   nr_of_rooms          9119 non-null   float64\n",
      " 7   area                 8817 non-null   float64\n",
      " 8   equiped_kitchen      7819 non-null   object \n",
      " 9   furnished            5535 non-null   object \n",
      " 10  open_fire            10006 non-null  bool   \n",
      " 11  terrace              6421 non-null   object \n",
      " 12  terrace_area         4373 non-null   float64\n",
      " 13  garden               3029 non-null   object \n",
      " 14  garden_area          2097 non-null   float64\n",
      " 15  total_land_area      4576 non-null   float64\n",
      " 16  nr_of_facades        7024 non-null   float64\n",
      " 17  swimming_pool        4248 non-null   object \n",
      " 18  building_condition   7924 non-null   object \n",
      "dtypes: bool(1), float64(7), int64(2), object(9)\n",
      "memory usage: 1.4+ MB\n"
     ]
    }
   ],
   "source": [
    "# info dataframe (number data, title column, feature type, number data per column)\n",
    "df.info()"
   ]
  },
  {
   "cell_type": "code",
   "execution_count": null,
   "metadata": {},
   "outputs": [],
   "source": []
  },
  {
   "cell_type": "markdown",
   "metadata": {},
   "source": [
    "column 'id', 'type_of_sale' are remove\n",
    "type_of_sale contains the unique value \"FOR SALE\""
   ]
  },
  {
   "cell_type": "code",
   "execution_count": 46,
   "metadata": {},
   "outputs": [],
   "source": [
    "# drop id column\n",
    "df = df.drop(['id'], axis=1)\n",
    "# drop type_of_sale column\n",
    "df = df.drop(['type_of_sale'], axis = 1)"
   ]
  },
  {
   "cell_type": "code",
   "execution_count": 47,
   "metadata": {},
   "outputs": [
    {
     "data": {
      "text/plain": [
       "locality               10006\n",
       "type_of_property       10006\n",
       "subtype_of_property    10006\n",
       "price                   9054\n",
       "nr_of_rooms             9119\n",
       "area                    8817\n",
       "equiped_kitchen         7819\n",
       "furnished               5535\n",
       "open_fire              10006\n",
       "terrace                 6421\n",
       "terrace_area            4373\n",
       "garden                  3029\n",
       "garden_area             2097\n",
       "total_land_area         4576\n",
       "nr_of_facades           7024\n",
       "swimming_pool           4248\n",
       "building_condition      7924\n",
       "dtype: int64"
      ]
     },
     "execution_count": 47,
     "metadata": {},
     "output_type": "execute_result"
    }
   ],
   "source": [
    "# count number of missing values \n",
    "df.count()"
   ]
  },
  {
   "cell_type": "code",
   "execution_count": null,
   "metadata": {},
   "outputs": [],
   "source": []
  },
  {
   "cell_type": "code",
   "execution_count": 49,
   "metadata": {},
   "outputs": [],
   "source": [
    "# create a list with column names\n",
    "column_list = df.columns.tolist()"
   ]
  },
  {
   "cell_type": "code",
   "execution_count": 53,
   "metadata": {},
   "outputs": [
    {
     "name": "stdout",
     "output_type": "stream",
     "text": [
      "############## locality ##############\n",
      "8300    549\n",
      "1180    418\n",
      "1000    356\n",
      "1050    284\n",
      "8400    184\n",
      "       ... \n",
      "5544      1\n",
      "8810      1\n",
      "6821      1\n",
      "4651      1\n",
      "6687      1\n",
      "Name: locality, Length: 811, dtype: int64\n",
      "#############################################\n",
      "############## type_of_property ##############\n",
      "HOUSE              4576\n",
      "APARTMENT          4543\n",
      "APARTMENT_GROUP     751\n",
      "HOUSE_GROUP         136\n",
      "Name: type_of_property, dtype: int64\n",
      "#############################################\n",
      "############## subtype_of_property ##############\n",
      "APARTMENT               3444\n",
      "HOUSE                   3046\n",
      "APARTMENT_GROUP          751\n",
      "VILLA                    689\n",
      "DUPLEX                   299\n",
      "PENTHOUSE                297\n",
      "FLAT_STUDIO              186\n",
      "GROUND_FLOOR             185\n",
      "APARTMENT_BLOCK          177\n",
      "MIXED_USE_BUILDING       176\n",
      "EXCEPTIONAL_PROPERTY     144\n",
      "HOUSE_GROUP              136\n",
      "MANSION                  110\n",
      "TOWN_HOUSE                85\n",
      "LOFT                      63\n",
      "BUNGALOW                  49\n",
      "COUNTRY_COTTAGE           42\n",
      "SERVICE_FLAT              35\n",
      "TRIPLEX                   29\n",
      "FARMHOUSE                 18\n",
      "OTHER_PROPERTY            14\n",
      "MANOR_HOUSE               13\n",
      "CHALET                     8\n",
      "KOT                        5\n",
      "CASTLE                     5\n",
      "Name: subtype_of_property, dtype: int64\n",
      "#############################################\n",
      "############## price ##############\n",
      "249000.0     131\n",
      "295000.0     110\n",
      "299000.0     107\n",
      "199000.0     103\n",
      "325000.0     100\n",
      "            ... \n",
      "326000.0       1\n",
      "1405000.0      1\n",
      "221500.0       1\n",
      "496000.0       1\n",
      "1.0            1\n",
      "Name: price, Length: 1151, dtype: int64\n",
      "#############################################\n",
      "############## nr_of_rooms ##############\n",
      "3.0     2882\n",
      "2.0     2712\n",
      "4.0     1414\n",
      "1.0      840\n",
      "5.0      606\n",
      "6.0      265\n",
      "0.0      175\n",
      "7.0      102\n",
      "8.0       53\n",
      "9.0       24\n",
      "10.0      14\n",
      "11.0       6\n",
      "12.0       6\n",
      "15.0       5\n",
      "13.0       3\n",
      "20.0       3\n",
      "14.0       2\n",
      "41.0       2\n",
      "22.0       1\n",
      "16.0       1\n",
      "30.0       1\n",
      "18.0       1\n",
      "23.0       1\n",
      "Name: nr_of_rooms, dtype: int64\n",
      "#############################################\n",
      "############## area ##############\n",
      "100.0    188\n",
      "120.0    172\n",
      "90.0     169\n",
      "110.0    157\n",
      "85.0     141\n",
      "        ... \n",
      "482.0      1\n",
      "614.0      1\n",
      "655.0      1\n",
      "467.0      1\n",
      "349.0      1\n",
      "Name: area, Length: 548, dtype: int64\n",
      "#############################################\n",
      "############## equiped_kitchen ##############\n",
      "INSTALLED             3393\n",
      "HYPER_EQUIPPED        1882\n",
      "SEMI_EQUIPPED          987\n",
      "USA_HYPER_EQUIPPED     840\n",
      "NOT_INSTALLED          423\n",
      "USA_INSTALLED          208\n",
      "USA_SEMI_EQUIPPED       76\n",
      "USA_UNINSTALLED         10\n",
      "Name: equiped_kitchen, dtype: int64\n",
      "#############################################\n",
      "############## furnished ##############\n",
      "False    5134\n",
      "True      401\n",
      "Name: furnished, dtype: int64\n",
      "#############################################\n",
      "############## open_fire ##############\n",
      "False    9384\n",
      "True      622\n",
      "Name: open_fire, dtype: int64\n",
      "#############################################\n",
      "############## terrace ##############\n",
      "True    6421\n",
      "Name: terrace, dtype: int64\n",
      "#############################################\n",
      "############## terrace_area ##############\n",
      "20.0     268\n",
      "10.0     231\n",
      "15.0     217\n",
      "30.0     196\n",
      "8.0      183\n",
      "        ... \n",
      "112.0      1\n",
      "128.0      1\n",
      "124.0      1\n",
      "84.0       1\n",
      "188.0      1\n",
      "Name: terrace_area, Length: 151, dtype: int64\n",
      "#############################################\n",
      "############## garden ##############\n",
      "True    3029\n",
      "Name: garden, dtype: int64\n",
      "#############################################\n",
      "############## garden_area ##############\n",
      "100.0     60\n",
      "200.0     52\n",
      "400.0     47\n",
      "50.0      41\n",
      "250.0     40\n",
      "          ..\n",
      "193.0      1\n",
      "99.0       1\n",
      "1104.0     1\n",
      "1282.0     1\n",
      "711.0      1\n",
      "Name: garden_area, Length: 608, dtype: int64\n",
      "#############################################\n",
      "############## total_land_area ##############\n",
      "0.0        207\n",
      "150.0       41\n",
      "120.0       38\n",
      "1000.0      37\n",
      "100.0       35\n",
      "          ... \n",
      "901.0        1\n",
      "13964.0      1\n",
      "3039.0       1\n",
      "8600.0       1\n",
      "7750.0       1\n",
      "Name: total_land_area, Length: 1564, dtype: int64\n",
      "#############################################\n",
      "############## nr_of_facades ##############\n",
      "2.0     3453\n",
      "4.0     1929\n",
      "3.0     1588\n",
      "1.0       53\n",
      "10.0       1\n",
      "Name: nr_of_facades, dtype: int64\n",
      "#############################################\n",
      "############## swimming_pool ##############\n",
      "False    3935\n",
      "True      313\n",
      "Name: swimming_pool, dtype: int64\n",
      "#############################################\n",
      "############## building_condition ##############\n",
      "AS_NEW            3164\n",
      "GOOD              2866\n",
      "TO_BE_DONE_UP      691\n",
      "TO_RENOVATE        605\n",
      "JUST_RENOVATED     563\n",
      "TO_RESTORE          35\n",
      "Name: building_condition, dtype: int64\n",
      "#############################################\n"
     ]
    }
   ],
   "source": [
    "# count in all columns number of rows with each unique value of variable\n",
    "for column_name in column_list : \n",
    "    print('##############', column_name, '##############')\n",
    "    print(df[column_name].value_counts())\n",
    "    print('#############################################')"
   ]
  },
  {
   "cell_type": "code",
   "execution_count": null,
   "metadata": {},
   "outputs": [],
   "source": [
    "continous variables : price, nr_of_rooms, area, terrace_area, total_land_area, nr_of_facades\n",
    "categorical variable : locality, type_of_property, equiped_kitchen\n",
    "boolean variable : furnished, open_fire, terrace, swimming_pool"
   ]
  },
  {
   "cell_type": "code",
   "execution_count": null,
   "metadata": {},
   "outputs": [],
   "source": []
  },
  {
   "cell_type": "code",
   "execution_count": null,
   "metadata": {},
   "outputs": [],
   "source": []
  }
 ],
 "metadata": {
  "kernelspec": {
   "display_name": "Python 3",
   "language": "python",
   "name": "python3"
  },
  "language_info": {
   "codemirror_mode": {
    "name": "ipython",
    "version": 3
   },
   "file_extension": ".py",
   "mimetype": "text/x-python",
   "name": "python",
   "nbconvert_exporter": "python",
   "pygments_lexer": "ipython3",
   "version": "3.7.0"
  }
 },
 "nbformat": 4,
 "nbformat_minor": 2
}
